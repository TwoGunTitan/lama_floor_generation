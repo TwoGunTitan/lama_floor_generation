{
 "cells": [
  {
   "cell_type": "code",
   "execution_count": 1,
   "id": "90967aa8",
   "metadata": {},
   "outputs": [],
   "source": [
    "import torch"
   ]
  },
  {
   "cell_type": "code",
   "execution_count": 4,
   "id": "93795ca6",
   "metadata": {},
   "outputs": [],
   "source": [
    "ckpt = torch.load(\"big-lama/models/best.ckpt\")"
   ]
  },
  {
   "cell_type": "code",
   "execution_count": 3,
   "id": "37bd5d29",
   "metadata": {},
   "outputs": [],
   "source": [
    "ncpk = torch.load(\"experiments/azureuser_2022-01-05_20-23-53_train_big-lama_/models/last.ckpt\")"
   ]
  },
  {
   "cell_type": "code",
   "execution_count": 5,
   "id": "a713dc4c",
   "metadata": {},
   "outputs": [
    {
     "data": {
      "text/plain": [
       "dict_keys(['epoch', 'global_step', 'pytorch-lightning_version', 'state_dict', 'callbacks', 'lr_schedulers', 'hparams_name', 'hyper_parameters', 'hparams_type'])"
      ]
     },
     "execution_count": 5,
     "metadata": {},
     "output_type": "execute_result"
    }
   ],
   "source": [
    "ckpt.keys()"
   ]
  },
  {
   "cell_type": "code",
   "execution_count": 6,
   "id": "dd96223f",
   "metadata": {},
   "outputs": [
    {
     "data": {
      "text/plain": [
       "dict_keys(['epoch', 'global_step', 'pytorch-lightning_version', 'state_dict', 'callbacks', 'optimizer_states', 'lr_schedulers', 'hparams_name', 'hyper_parameters', 'hparams_type'])"
      ]
     },
     "execution_count": 6,
     "metadata": {},
     "output_type": "execute_result"
    }
   ],
   "source": [
    "ncpk.keys()"
   ]
  },
  {
   "cell_type": "code",
   "execution_count": 8,
   "id": "4a1f6d92",
   "metadata": {},
   "outputs": [],
   "source": [
    "for k in ncpk['state_dict'].keys():\n",
    "    if k not in ckpt['state_dict'].keys():\n",
    "        ckpt['state_dict'][k] = ncpk['state_dict'][k]"
   ]
  },
  {
   "cell_type": "code",
   "execution_count": 12,
   "id": "43658888",
   "metadata": {},
   "outputs": [],
   "source": [
    "ckpt['optimizer_states'] = ncpk['optimizer_states']"
   ]
  },
  {
   "cell_type": "code",
   "execution_count": 13,
   "id": "756b0f61",
   "metadata": {},
   "outputs": [],
   "source": [
    "torch.save(ckpt, \"big-lama/models/fixed.ckpt\")"
   ]
  },
  {
   "cell_type": "code",
   "execution_count": null,
   "id": "494bf002",
   "metadata": {},
   "outputs": [],
   "source": []
  }
 ],
 "metadata": {
  "kernelspec": {
   "display_name": "Python 3 (ipykernel)",
   "language": "python",
   "name": "python3"
  },
  "language_info": {
   "codemirror_mode": {
    "name": "ipython",
    "version": 3
   },
   "file_extension": ".py",
   "mimetype": "text/x-python",
   "name": "python",
   "nbconvert_exporter": "python",
   "pygments_lexer": "ipython3",
   "version": "3.8.12"
  }
 },
 "nbformat": 4,
 "nbformat_minor": 5
}
